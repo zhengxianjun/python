{
 "cells": [
  {
   "cell_type": "code",
   "execution_count": 33,
   "metadata": {
    "collapsed": true
   },
   "outputs": [],
   "source": [
    "import pandas as pd\n",
    "import numpy as np\n",
    "import time\n",
    "import datetime"
   ]
  },
  {
   "cell_type": "code",
   "execution_count": 139,
   "metadata": {},
   "outputs": [],
   "source": [
    "df = pd.read_excel(r'C:\\Users\\q\\Desktop\\123.xlsx')"
   ]
  },
  {
   "cell_type": "code",
   "execution_count": 141,
   "metadata": {},
   "outputs": [
    {
     "data": {
      "text/html": [
       "<div>\n",
       "<table border=\"1\" class=\"dataframe\">\n",
       "  <thead>\n",
       "    <tr style=\"text-align: right;\">\n",
       "      <th></th>\n",
       "      <th>信托计划</th>\n",
       "      <th>还款日期</th>\n",
       "      <th>还款总额</th>\n",
       "    </tr>\n",
       "  </thead>\n",
       "  <tbody>\n",
       "    <tr>\n",
       "      <th>0</th>\n",
       "      <td>天启（2016）</td>\n",
       "      <td>2017-10-02</td>\n",
       "      <td>56100</td>\n",
       "    </tr>\n",
       "    <tr>\n",
       "      <th>1</th>\n",
       "      <td>天启（2016）</td>\n",
       "      <td>2017-10-03</td>\n",
       "      <td>38000</td>\n",
       "    </tr>\n",
       "    <tr>\n",
       "      <th>2</th>\n",
       "      <td>天启（2016）</td>\n",
       "      <td>2017-10-04</td>\n",
       "      <td>29800</td>\n",
       "    </tr>\n",
       "    <tr>\n",
       "      <th>3</th>\n",
       "      <td>天启（2016）</td>\n",
       "      <td>2017-10-05</td>\n",
       "      <td>11900</td>\n",
       "    </tr>\n",
       "    <tr>\n",
       "      <th>4</th>\n",
       "      <td>天启（2016）</td>\n",
       "      <td>2017-10-06</td>\n",
       "      <td>67250</td>\n",
       "    </tr>\n",
       "  </tbody>\n",
       "</table>\n",
       "</div>"
      ],
      "text/plain": [
       "       信托计划       还款日期   还款总额\n",
       "0  天启（2016） 2017-10-02  56100\n",
       "1  天启（2016） 2017-10-03  38000\n",
       "2  天启（2016） 2017-10-04  29800\n",
       "3  天启（2016） 2017-10-05  11900\n",
       "4  天启（2016） 2017-10-06  67250"
      ]
     },
     "execution_count": 141,
     "metadata": {},
     "output_type": "execute_result"
    }
   ],
   "source": [
    "df.head()"
   ]
  },
  {
   "cell_type": "code",
   "execution_count": 143,
   "metadata": {},
   "outputs": [],
   "source": [
    "df.set_axis=['xtjh','returndate','loanmoney']"
   ]
  },
  {
   "cell_type": "code",
   "execution_count": 144,
   "metadata": {},
   "outputs": [
    {
     "data": {
      "text/html": [
       "<div>\n",
       "<table border=\"1\" class=\"dataframe\">\n",
       "  <thead>\n",
       "    <tr style=\"text-align: right;\">\n",
       "      <th></th>\n",
       "      <th>xtjh</th>\n",
       "      <th>returndate</th>\n",
       "      <th>loanmoney</th>\n",
       "    </tr>\n",
       "  </thead>\n",
       "  <tbody>\n",
       "    <tr>\n",
       "      <th>0</th>\n",
       "      <td>天启（2016）</td>\n",
       "      <td>2017-10-02</td>\n",
       "      <td>56100</td>\n",
       "    </tr>\n",
       "    <tr>\n",
       "      <th>1</th>\n",
       "      <td>天启（2016）</td>\n",
       "      <td>2017-10-03</td>\n",
       "      <td>38000</td>\n",
       "    </tr>\n",
       "    <tr>\n",
       "      <th>2</th>\n",
       "      <td>天启（2016）</td>\n",
       "      <td>2017-10-04</td>\n",
       "      <td>29800</td>\n",
       "    </tr>\n",
       "    <tr>\n",
       "      <th>3</th>\n",
       "      <td>天启（2016）</td>\n",
       "      <td>2017-10-05</td>\n",
       "      <td>11900</td>\n",
       "    </tr>\n",
       "    <tr>\n",
       "      <th>4</th>\n",
       "      <td>天启（2016）</td>\n",
       "      <td>2017-10-06</td>\n",
       "      <td>67250</td>\n",
       "    </tr>\n",
       "  </tbody>\n",
       "</table>\n",
       "</div>"
      ],
      "text/plain": [
       "       xtjh returndate  loanmoney\n",
       "0  天启（2016） 2017-10-02      56100\n",
       "1  天启（2016） 2017-10-03      38000\n",
       "2  天启（2016） 2017-10-04      29800\n",
       "3  天启（2016） 2017-10-05      11900\n",
       "4  天启（2016） 2017-10-06      67250"
      ]
     },
     "execution_count": 144,
     "metadata": {},
     "output_type": "execute_result"
    }
   ],
   "source": [
    "df.head()"
   ]
  },
  {
   "cell_type": "code",
   "execution_count": 149,
   "metadata": {
    "scrolled": true
   },
   "outputs": [],
   "source": [
    "df['newdate'] = pd.to_datetime(df.returndate,format='%Y')"
   ]
  },
  {
   "cell_type": "code",
   "execution_count": 151,
   "metadata": {},
   "outputs": [
    {
     "data": {
      "text/html": [
       "<div>\n",
       "<table border=\"1\" class=\"dataframe\">\n",
       "  <thead>\n",
       "    <tr style=\"text-align: right;\">\n",
       "      <th></th>\n",
       "      <th>xtjh</th>\n",
       "      <th>returndate</th>\n",
       "      <th>loanmoney</th>\n",
       "      <th>newdate</th>\n",
       "    </tr>\n",
       "  </thead>\n",
       "  <tbody>\n",
       "    <tr>\n",
       "      <th>0</th>\n",
       "      <td>天启（2016）</td>\n",
       "      <td>2017-10-02</td>\n",
       "      <td>56100</td>\n",
       "      <td>2017-10-02</td>\n",
       "    </tr>\n",
       "    <tr>\n",
       "      <th>1</th>\n",
       "      <td>天启（2016）</td>\n",
       "      <td>2017-10-03</td>\n",
       "      <td>38000</td>\n",
       "      <td>2017-10-03</td>\n",
       "    </tr>\n",
       "    <tr>\n",
       "      <th>2</th>\n",
       "      <td>天启（2016）</td>\n",
       "      <td>2017-10-04</td>\n",
       "      <td>29800</td>\n",
       "      <td>2017-10-04</td>\n",
       "    </tr>\n",
       "    <tr>\n",
       "      <th>3</th>\n",
       "      <td>天启（2016）</td>\n",
       "      <td>2017-10-05</td>\n",
       "      <td>11900</td>\n",
       "      <td>2017-10-05</td>\n",
       "    </tr>\n",
       "    <tr>\n",
       "      <th>4</th>\n",
       "      <td>天启（2016）</td>\n",
       "      <td>2017-10-06</td>\n",
       "      <td>67250</td>\n",
       "      <td>2017-10-06</td>\n",
       "    </tr>\n",
       "  </tbody>\n",
       "</table>\n",
       "</div>"
      ],
      "text/plain": [
       "       xtjh returndate  loanmoney    newdate\n",
       "0  天启（2016） 2017-10-02      56100 2017-10-02\n",
       "1  天启（2016） 2017-10-03      38000 2017-10-03\n",
       "2  天启（2016） 2017-10-04      29800 2017-10-04\n",
       "3  天启（2016） 2017-10-05      11900 2017-10-05\n",
       "4  天启（2016） 2017-10-06      67250 2017-10-06"
      ]
     },
     "execution_count": 151,
     "metadata": {},
     "output_type": "execute_result"
    }
   ],
   "source": [
    "df.head()"
   ]
  },
  {
   "cell_type": "code",
   "execution_count": 174,
   "metadata": {
    "collapsed": true
   },
   "outputs": [
    {
     "data": {
      "text/plain": [
       "0      2017-10-02\n",
       "1      2017-10-03\n",
       "2      2017-10-04\n",
       "3      2017-10-05\n",
       "4      2017-10-06\n",
       "5      2017-10-07\n",
       "6      2017-10-08\n",
       "7      2017-10-09\n",
       "8      2017-10-10\n",
       "9      2017-10-11\n",
       "10     2017-10-12\n",
       "11     2017-10-13\n",
       "12     2017-10-14\n",
       "13     2017-10-15\n",
       "14     2017-10-16\n",
       "15     2017-10-17\n",
       "16     2017-10-18\n",
       "17     2017-10-19\n",
       "18     2017-10-20\n",
       "19     2017-10-21\n",
       "20     2017-10-22\n",
       "21     2017-10-23\n",
       "22     2017-10-24\n",
       "23     2017-10-25\n",
       "24     2017-10-26\n",
       "25     2017-10-27\n",
       "26     2017-10-28\n",
       "27     2017-10-29\n",
       "28     2017-10-30\n",
       "29     2017-10-31\n",
       "          ...    \n",
       "659    2018-03-08\n",
       "660    2018-03-09\n",
       "661    2018-03-10\n",
       "662    2018-03-11\n",
       "663    2018-03-12\n",
       "664    2018-03-13\n",
       "665    2018-03-14\n",
       "666    2018-03-15\n",
       "667    2018-03-16\n",
       "668    2018-03-17\n",
       "669    2017-10-24\n",
       "670    2017-10-25\n",
       "671    2017-10-26\n",
       "672    2017-11-13\n",
       "673    2017-11-24\n",
       "674    2017-11-25\n",
       "675    2017-11-26\n",
       "676    2017-12-13\n",
       "677    2017-12-24\n",
       "678    2017-12-25\n",
       "679    2017-12-26\n",
       "680    2018-01-13\n",
       "681    2018-01-24\n",
       "682    2018-01-25\n",
       "683    2018-01-26\n",
       "684    2018-02-13\n",
       "685    2018-02-24\n",
       "686    2018-02-25\n",
       "687    2018-02-26\n",
       "688    2018-03-13\n",
       "Name: newdate, dtype: object"
      ]
     },
     "execution_count": 174,
     "metadata": {},
     "output_type": "execute_result"
    }
   ],
   "source": [
    "df.newdate.astype(str)"
   ]
  },
  {
   "cell_type": "code",
   "execution_count": 176,
   "metadata": {},
   "outputs": [
    {
     "name": "stdout",
     "output_type": "stream",
     "text": [
      "<class 'pandas.core.frame.DataFrame'>\n",
      "RangeIndex: 689 entries, 0 to 688\n",
      "Data columns (total 4 columns):\n",
      "xtjh          689 non-null object\n",
      "returndate    689 non-null datetime64[ns]\n",
      "loanmoney     689 non-null int64\n",
      "newdate       689 non-null datetime64[ns]\n",
      "dtypes: datetime64[ns](2), int64(1), object(1)\n",
      "memory usage: 21.6+ KB\n"
     ]
    }
   ],
   "source": [
    "df.info()"
   ]
  },
  {
   "cell_type": "code",
   "execution_count": null,
   "metadata": {
    "collapsed": true
   },
   "outputs": [],
   "source": [
    "for key,date in df.newdate.iteritems():\n",
    "    print(time.strftime(date,'%W'))"
   ]
  }
 ],
 "metadata": {
  "kernelspec": {
   "display_name": "Python 3",
   "language": "python",
   "name": "python3"
  },
  "language_info": {
   "codemirror_mode": {
    "name": "ipython",
    "version": 3
   },
   "file_extension": ".py",
   "mimetype": "text/x-python",
   "name": "python",
   "nbconvert_exporter": "python",
   "pygments_lexer": "ipython3",
   "version": "3.6.0"
  }
 },
 "nbformat": 4,
 "nbformat_minor": 2
}
